{
 "cells": [
  {
   "cell_type": "markdown",
   "id": "14d5f913-f2ef-45ba-8f20-8c483118d264",
   "metadata": {},
   "source": [
    "## Data Types\n",
    "\n",
    "  We have mainy four types of data\n",
    "- Numbers(int,float,boolean,complex)\n",
    "- set\n",
    "- Dictionary\n",
    "- sequence(list,string,tuple)."
   ]
  },
  {
   "cell_type": "code",
   "execution_count": 1,
   "id": "219c83c1-db85-4632-8565-58767ac4e276",
   "metadata": {},
   "outputs": [
    {
     "name": "stdout",
     "output_type": "stream",
     "text": [
      "<class 'int'>\n",
      "<class 'float'>\n",
      "<class 'complex'>\n"
     ]
    }
   ],
   "source": [
    "#ex:\n",
    "x=1#int\n",
    "print(type(x))\n",
    "y=2.9#float\n",
    "print(type(y))\n",
    "z=11+5j#complex\n",
    "print(type(z))"
   ]
  },
  {
   "cell_type": "markdown",
   "id": "1ebcd7fb-aaec-487d-a2d0-da3664dc997c",
   "metadata": {},
   "source": [
    "## Type casting"
   ]
  },
  {
   "cell_type": "code",
   "execution_count": 4,
   "id": "0a6cb737-beb6-4127-b96d-1df0ce78e6b1",
   "metadata": {},
   "outputs": [
    {
     "name": "stdout",
     "output_type": "stream",
     "text": [
      "10.0\n",
      "25\n",
      "(10+0j)\n"
     ]
    }
   ],
   "source": [
    "#Type casting means converting one type of data to another type of data. \n",
    "x= 10\n",
    "y=25.5\n",
    "\n",
    "print(float(x))\n",
    "print(int(y))\n",
    "print(complex(x))"
   ]
  }
 ],
 "metadata": {
  "kernelspec": {
   "display_name": "Python 3 (ipykernel)",
   "language": "python",
   "name": "python3"
  },
  "language_info": {
   "codemirror_mode": {
    "name": "ipython",
    "version": 3
   },
   "file_extension": ".py",
   "mimetype": "text/x-python",
   "name": "python",
   "nbconvert_exporter": "python",
   "pygments_lexer": "ipython3",
   "version": "3.11.7"
  }
 },
 "nbformat": 4,
 "nbformat_minor": 5
}
