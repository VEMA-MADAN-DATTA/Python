{
 "cells": [
  {
   "cell_type": "markdown",
   "id": "645b4eea-9ccb-43cd-9dd4-807c014840fb",
   "metadata": {},
   "source": [
    "# Core Data Types"
   ]
  },
  {
   "cell_type": "markdown",
   "id": "45383727-702e-47d9-9174-508a69782d56",
   "metadata": {},
   "source": [
    "We have five core data types in python\n",
    "- List\n",
    "- Tuple \n",
    "- Set \n",
    "- Dictionaary\n",
    "- String"
   ]
  },
  {
   "cell_type": "markdown",
   "id": "c04a4082-ed79-4226-9598-d6aaeb95d44a",
   "metadata": {},
   "source": [
    "## List"
   ]
  },
  {
   "cell_type": "markdown",
   "id": "20708b4e-22be-4dbb-a940-ad20896524b5",
   "metadata": {},
   "source": [
    " List is a Type of Data which is created by using  different types of data in square brackts and each element is seperated by cama."
   ]
  },
  {
   "cell_type": "code",
   "execution_count": 8,
   "id": "c6cabff9-1af0-4beb-a57f-650e9e3d603b",
   "metadata": {},
   "outputs": [
    {
     "name": "stdout",
     "output_type": "stream",
     "text": [
      "[1, 'Madan', 2, 'Datta', 3, 'Vema']\n",
      "['Schooling', 'Care School', 8.08]\n",
      "['Intermediate', 'Vignan junior college', 9.03]\n",
      "['B.Tech', 'Parul university', 7.05]\n",
      "['Java course', 'Cv corp', 60]\n",
      "['Data Dcience', 'Teks Acedamy', ' On going']\n",
      "['Data Analyst', 'Business Analyst', 'Data Engineer', 'ML Engineer', 'Data Scientist']\n",
      "[True, 10, 0, False, 'Madan Datta', 50.5]\n",
      "['Bike', 200000, 'Car', 5000000, 'Mobile', 37000]\n",
      "['Java', 'Python', 'c', 'c++', 'JavaScript', 'Html', 'CSS']\n"
     ]
    }
   ],
   "source": [
    "#Q1.Create 10 lists and store different items.\n",
    "List1=[1,\"Madan\",2,\"Datta\",3,\"Vema\"]\n",
    "print(List1)\n",
    "List2=[\"Schooling\",\"Care School\",8.08]\n",
    "print (List2)\n",
    "List3=[\"Intermediate\",\"Vignan junior college\",9.03]\n",
    "print (List3)\n",
    "List4=[\"B.Tech\",\"Parul university\",7.05]\n",
    "print (List4)\n",
    "List5=[\"Java course\",\"Cv corp\",60]\n",
    "print (List5)\n",
    "List6=[\"Data Dcience\",\"Teks Acedamy\",\" On going\"]\n",
    "print (List6)\n",
    "List7=[\"Data Analyst\",\"Business Analyst\",\"Data Engineer\",\"ML Engineer\",\"Data Scientist\"]\n",
    "print (List7)\n",
    "List8=[True,10,0,False,\"Madan Datta\",50.50]\n",
    "print (List8)\n",
    "List9=[\"Bike\", 200000,\"Car\",5000000,\"Mobile\",37000]\n",
    "print (List9)\n",
    "List10=[\"Java\",\"Python\",\"c\",\"c++\",\"JavaScript\",\"Html\",\"CSS\"]\n",
    "print (List10)"
   ]
  },
  {
   "cell_type": "code",
   "execution_count": 11,
   "id": "8250d823-a8e2-4852-99bd-1685e157e834",
   "metadata": {},
   "outputs": [
    {
     "name": "stdout",
     "output_type": "stream",
     "text": [
      "Data Science\n",
      "Data Analyst\n",
      "Business Analyst\n",
      "full Stack python\n",
      "full Stack java\n",
      "Digital Marketing\n",
      "AWS\n",
      "GCP\n",
      "SF\n",
      "CAD\n",
      "JSP\n",
      "JSP\n",
      "CAD\n",
      "SF\n",
      "GCP\n",
      "AWS\n",
      "Digital Marketing\n",
      "full Stack java\n",
      "full Stack python\n",
      "Business Analyst\n",
      "Data Analyst\n",
      "Data Science\n"
     ]
    }
   ],
   "source": [
    "#Q2.Access each element from a list using negative and postive indexing\n",
    "Acedamy=[\"Data Science\",\"Data Analyst\",\"Business Analyst\",\"full Stack python\",\"full Stack java\",\"Digital Marketing\",\"AWS\",\"GCP\",\"SF\",\"CAD\",\"JSP\"]\n",
    "print(Acedamy[0])\n",
    "print(Acedamy[1])\n",
    "print(Acedamy[2])\n",
    "print(Acedamy[3])\n",
    "print(Acedamy[4])\n",
    "print(Acedamy[5])\n",
    "print(Acedamy[6])\n",
    "print(Acedamy[7])\n",
    "print(Acedamy[8])\n",
    "print(Acedamy[9])\n",
    "print(Acedamy[10])\n",
    "print(Acedamy[-1])\n",
    "print(Acedamy[-2])\n",
    "print(Acedamy[-3])\n",
    "print(Acedamy[-4])\n",
    "print(Acedamy[-5])\n",
    "print(Acedamy[-6])\n",
    "print(Acedamy[-7])\n",
    "print(Acedamy[-8])\n",
    "print(Acedamy[-9])\n",
    "print(Acedamy[-10])\n",
    "print(Acedamy[-11])"
   ]
  },
  {
   "cell_type": "code",
   "execution_count": 13,
   "id": "347494a7-68c6-40b5-a16c-5f468c882b95",
   "metadata": {},
   "outputs": [
    {
     "name": "stdout",
     "output_type": "stream",
     "text": [
      "[0, 1, 2, 3, 4, 5, 6, 7, 8, 9]\n",
      "[20, 21, 22, 23, 24, 25, 26, 27, 28, 29, 30]\n",
      "[0, 1, 2, 3, 4, 5, 6, 7, 8, 9, 10, 11, 12, 13, 14]\n",
      "[0, 1, 2, 3, 4, 5, 6, 7, 8, 9, 10, 11, 12, 13, 14, 15, 16, 17, 18, 19, 20, 21, 22, 23, 24, 25, 26, 27, 28, 29, 30]\n"
     ]
    }
   ],
   "source": [
    "#Q3.Create a list with 30 elements and access using slicing.\n",
    "Numbers=[0,1,2,3,4,5,6,7,8,9,10,11,12,13,14,15,16,17,18,19,20,21,22,23,24,25,26,27,28,29,30]\n",
    "print(Numbers[0:10])\n",
    "print(Numbers[20:])\n",
    "print(Numbers[:15])\n",
    "print(Numbers[:])"
   ]
  },
  {
   "cell_type": "code",
   "execution_count": 17,
   "id": "7799cfd3-bb24-4947-96db-6233a309d555",
   "metadata": {},
   "outputs": [
    {
     "name": "stdout",
     "output_type": "stream",
     "text": [
      "['Father', 'Mother', 'Myself', 'Grand Mother']\n",
      "['Cherry', 'Pine Apple', 'Orange', 'Apple', 'Grape', 'Kiwi']\n"
     ]
    }
   ],
   "source": [
    "#Q4.Create a list with five items and modify using index and slicing.\n",
    "# Modifiation using indexing\n",
    "Family=[\"Father\",\"Mother\",\"Sister\",\"Grand Mother\"]\n",
    "Family[2]=\"Myself\"\n",
    "print(Family)\n",
    "#Modification using Slicing\n",
    "fruits=[\"Banana\",\"Mango\",\"Apple\",\"Grape\",\"Kiwi\"]\n",
    "fruits[0:2]=[\"Cherry\",\"Pine Apple\",\"Orange\"]\n",
    "print (fruits)"
   ]
  },
  {
   "cell_type": "code",
   "execution_count": 18,
   "id": "3f3f52bd-1144-4ab3-aa0d-1509f1b0d28e",
   "metadata": {},
   "outputs": [
    {
     "name": "stdout",
     "output_type": "stream",
     "text": [
      "['Mathematics', 'chemistry', 1997, 2000, 20544]\n",
      "['Mathematics', 'chemistry', 10087, 1997, 2000]\n"
     ]
    }
   ],
   "source": [
    "#Q5. Write all the methos of list present in python\n",
    " #Append\n",
    "# Adds List Element as value of List at the end (only single value can be added)\n",
    "List = ['Mathematics', 'chemistry', 1997, 2000]\n",
    "List.append(20544)\n",
    "print(List)\n",
    "\n",
    "# Insert at given  index  value \n",
    "List = ['Mathematics', 'chemistry', 1997, 2000]\n",
    "List.insert(2, 10087)\n",
    "print(List)\n",
    "\n",
    "#Extend\n",
    "List1 = [1, 2, 3]\n",
    "List2 = [2, 3, 4, 5]\n",
    "# Add List2 to List1\n",
    "List1.extend(List2)\n",
    "print(List1)\n",
    "# Add List1 to List2 now\n",
    "List2.extend(List1)\n",
    "print(List2)\n",
    "\n",
    "#Sum\n",
    "#Adds all the elements present in the list.\n",
    "List = [1, 2, 3, 4, 5]\n",
    "print(sum(List))\n",
    "\n",
    "#count\n",
    "#Counts number of specific elements present in a list.\n",
    "List = [1, 2, 3, 1, 2, 1, 2, 3, 2, 1]\n",
    "print(List.count(1))\n",
    "\n",
    "#length\n",
    "# Shows total number of elements present in list.\n",
    "List = [1, 2, 3, 1, 2, 1, 2, 3, 2, 1]\n",
    "print(len(List))\n",
    "\n",
    "#index()\n",
    "#Returns the index of the first occurrence. The start and end indexes are not necessary parameters\n",
    "#Syntax: List.index(element[,start[,end]])\n",
    "List = [1, 2, 3, 1, 2, 1, 2, 3, 2, 1]\n",
    "print(List.index(2))\n",
    "\n",
    "#min\n",
    "#Shows min value of al the elements in the list\n",
    "numbers = [5, 2, 8, 1, 9]\n",
    "print(min(numbers))\n",
    "\n",
    "#max\n",
    "#Shows the max value among all the elements in the list\n",
    "numbers = [5, 2, 8, 1, 9]\n",
    "print(max(numbers))\n",
    "\n",
    "#Sort \n",
    "# Sorts the given data Structure in assending order\n",
    "List = [2.3, 4.445, 3, 5.33, 1.054, 2.5]\n",
    "#Reverse flag is set True\n",
    "List.sort(reverse=True) \n",
    "#List.sort().reverse(), reverses the sorted list  \n",
    "print(List)  \n",
    "\n",
    "#Reverse\n",
    "#reverse() function reverses the order of list.     \n",
    "# creating a list\n",
    "list = [1,2,3,4,5]\n",
    "#reversing the list\n",
    "list.reverse()\n",
    "#printing the list\n",
    "print(list)\n",
    "\n",
    "\n",
    "\n",
    "#Deletion of list elements\n",
    "\n",
    "#Pop\n",
    "#Removes an item from a specific index in a list.\n",
    "List = [2.3, 4.445, 3, 5.33, 1.054, 2.5]\n",
    "print(List.pop())\n",
    "\n",
    "\n",
    "#del()\n",
    "#Deletes an element from the list using it’s index.\n",
    "List = [2.3, 4.445, 3, 5.33, 1.054, 2.5]\n",
    "del List[0]\n",
    "print(List)\n",
    "\n",
    "\n",
    "#remove\n",
    "#Removes a specific element using it’s value/name.\n",
    "List = [2.3, 4.445, 3, 5.33, 1.054, 2.5]\n",
    "List.remove(3)\n",
    "print(List)\n",
    "\n",
    "\n",
    "\n",
    "\n",
    "\n",
    "\n",
    "\n"
   ]
  },
  {
   "cell_type": "code",
   "execution_count": null,
   "id": "55ac0a26-de96-4c3d-987c-7d8e5d8d3541",
   "metadata": {},
   "outputs": [],
   "source": []
  }
 ],
 "metadata": {
  "kernelspec": {
   "display_name": "Python 3 (ipykernel)",
   "language": "python",
   "name": "python3"
  },
  "language_info": {
   "codemirror_mode": {
    "name": "ipython",
    "version": 3
   },
   "file_extension": ".py",
   "mimetype": "text/x-python",
   "name": "python",
   "nbconvert_exporter": "python",
   "pygments_lexer": "ipython3",
   "version": "3.11.7"
  }
 },
 "nbformat": 4,
 "nbformat_minor": 5
}
