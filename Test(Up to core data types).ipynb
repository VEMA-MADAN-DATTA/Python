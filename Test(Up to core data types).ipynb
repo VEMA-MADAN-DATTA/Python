{
 "cells": [
  {
   "cell_type": "markdown",
   "id": "10129f28-a31f-4469-8a9c-9022d6acdbbb",
   "metadata": {},
   "source": [
    "## 1.Define python"
   ]
  },
  {
   "cell_type": "markdown",
   "id": "21b2eb65-c0a6-4968-a58e-f88aa0269d55",
   "metadata": {},
   "source": [
    "python is a high-level programming language that humans can understand and use to program the function in the computer."
   ]
  },
  {
   "cell_type": "markdown",
   "id": "e415c4bb-11b4-4c04-b36d-ab674198c2a5",
   "metadata": {},
   "source": [
    "## 2.Create five valid and five Invalid vriables"
   ]
  },
  {
   "cell_type": "code",
   "execution_count": 8,
   "id": "50a45331-fa7f-4b5f-884b-6a534905f0de",
   "metadata": {},
   "outputs": [
    {
     "name": "stdout",
     "output_type": "stream",
     "text": [
      "Madan Datta\n",
      "21\n",
      "Data Science\n",
      "Data Analyst\n",
      "Teks Acedamy\n"
     ]
    }
   ],
   "source": [
    "#Valid Variables\n",
    "_Name_=\"Madan Datta\"\n",
    "age=21\n",
    "D3partment=\"Data Science\"\n",
    "D_e_s_i_g_n_a_t_i_o_n=\"Data Analyst\"\n",
    "company_Name_=\"Teks Acedamy\"\n",
    "print(_Name_)\n",
    "print(age)\n",
    "print(D3partment)\n",
    "print(D_e_s_i_g_n_a_t_i_o_n)\n",
    "print(company_Name_)"
   ]
  },
  {
   "cell_type": "code",
   "execution_count": 5,
   "id": "9031ff2c-0b0d-47fe-9105-5ce8797f8e6e",
   "metadata": {},
   "outputs": [
    {
     "ename": "SyntaxError",
     "evalue": "invalid decimal literal (482146171.py, line 2)",
     "output_type": "error",
     "traceback": [
      "\u001b[1;36m  Cell \u001b[1;32mIn[5], line 2\u001b[1;36m\u001b[0m\n\u001b[1;33m    9Name10=\"Madan Datta\"\u001b[0m\n\u001b[1;37m    ^\u001b[0m\n\u001b[1;31mSyntaxError\u001b[0m\u001b[1;31m:\u001b[0m invalid decimal literal\n"
     ]
    }
   ],
   "source": [
    "#Invalid Variables\n",
    "9Name10=\"Madan Datta\"\n",
    "@In$t!tut3=\"Teks Acedamy\"\n",
    "^C^o^u^r^s^e=\"Data Science\"\n",
    "Facul&y=\"Vamsi Sir\"\n",
    "50Duration6=\"Six Months\""
   ]
  },
  {
   "cell_type": "markdown",
   "id": "3a3da19d-e39e-4073-acc8-1968b20f2f36",
   "metadata": {},
   "source": [
    "## 3.Define list,create a list with 10 items, and access one-by-one"
   ]
  },
  {
   "cell_type": "markdown",
   "id": "da6aecfa-a99d-4772-ada9-a6cd9d3ffc34",
   "metadata": {},
   "source": [
    "  -List is a type of data in which they are mentioned in square brackets and each element is separated by commas"
   ]
  },
  {
   "cell_type": "code",
   "execution_count": 12,
   "id": "16ce6ab4-ed2d-43c7-ae1c-b13778c3d6c4",
   "metadata": {},
   "outputs": [
    {
     "name": "stdout",
     "output_type": "stream",
     "text": [
      "1\n",
      "2\n",
      "3\n",
      "4\n",
      "5\n",
      "6\n",
      "7\n",
      "8\n",
      "9\n",
      "10\n",
      "10\n",
      "9\n",
      "8\n",
      "7\n",
      "6\n",
      "5\n",
      "4\n",
      "3\n",
      "2\n",
      "1\n"
     ]
    }
   ],
   "source": [
    "Data=[1,2,3,4,5,6,7,8,9,10]\n",
    "#Positive indexing\n",
    "print(Data[0])\n",
    "print(Data[1])\n",
    "print(Data[2])\n",
    "print(Data[3])\n",
    "print(Data[4])\n",
    "print(Data[5])\n",
    "print(Data[6])\n",
    "print(Data[7])\n",
    "print(Data[8])\n",
    "print(Data[9])\n",
    "\n",
    "#Negative indexing\n",
    "print(Data[-1])\n",
    "print(Data[-2])\n",
    "print(Data[-3])\n",
    "print(Data[-4])\n",
    "print(Data[-5])\n",
    "print(Data[-6])\n",
    "print(Data[-7])\n",
    "print(Data[-8])\n",
    "print(Data[-9])\n",
    "print(Data[-10])\n",
    "\n"
   ]
  },
  {
   "cell_type": "markdown",
   "id": "ec04203b-d7fe-4746-a130-5457d1cf72ea",
   "metadata": {},
   "source": [
    "## 4. Define String,create a String with 10 elements, and access one-by-one"
   ]
  },
  {
   "cell_type": "code",
   "execution_count": 14,
   "id": "bb160804-c3be-4ba7-93bb-36d850794533",
   "metadata": {},
   "outputs": [
    {
     "name": "stdout",
     "output_type": "stream",
     "text": [
      "M\n",
      "a\n",
      "d\n",
      "a\n",
      "n\n",
      "D\n",
      "a\n",
      "t\n",
      "t\n",
      "a\n",
      "V\n",
      "e\n",
      "m\n",
      "a\n",
      "a\n",
      "m\n",
      "e\n",
      "V\n",
      "a\n",
      "t\n",
      "t\n",
      "a\n",
      "D\n",
      "n\n",
      "a\n",
      "d\n",
      "a\n"
     ]
    }
   ],
   "source": [
    "Name= \"MadanDattaVema\"\n",
    "\n",
    "#positive Indexing\n",
    "print(Name[0])\n",
    "print(Name[1])\n",
    "print(Name[2])\n",
    "print(Name[3])\n",
    "print(Name[4])\n",
    "print(Name[5])\n",
    "print(Name[6])\n",
    "print(Name[7])\n",
    "print(Name[8])\n",
    "print(Name[9])\n",
    "print(Name[10])\n",
    "print(Name[11])\n",
    "print(Name[12])\n",
    "print(Name[13])\n",
    "\n",
    "#Negative Indexing\n",
    "print(Name[-1])\n",
    "print(Name[-2])\n",
    "print(Name[-3])\n",
    "print(Name[-4])\n",
    "print(Name[-5])\n",
    "print(Name[-6])\n",
    "print(Name[-7])\n",
    "print(Name[-8])\n",
    "print(Name[-9])\n",
    "print(Name[-10])\n",
    "print(Name[-11])\n",
    "print(Name[-12])\n",
    "print(Name[-13])\n",
    "\n",
    "\n"
   ]
  },
  {
   "cell_type": "markdown",
   "id": "e4a93109-e270-4ea6-95ec-8df784e141fc",
   "metadata": {},
   "source": [
    "## 5. Define Dictionary, create a Dictionary with 10 elements, and access one by one"
   ]
  },
  {
   "cell_type": "markdown",
   "id": "de27ac5b-4e8d-4a9c-b0e4-3f290922bc8d",
   "metadata": {},
   "source": [
    "A dictionary is a type of data that is represented as a Key value pair represented in curly braces and each pair is separated by comma."
   ]
  },
  {
   "cell_type": "code",
   "execution_count": 11,
   "id": "5be7daf4-2a75-4ea3-b06a-36f28ad81a37",
   "metadata": {},
   "outputs": [
    {
     "ename": "TypeError",
     "evalue": "dict.items() takes no arguments (1 given)",
     "output_type": "error",
     "traceback": [
      "\u001b[1;31m---------------------------------------------------------------------------\u001b[0m",
      "\u001b[1;31mTypeError\u001b[0m                                 Traceback (most recent call last)",
      "Cell \u001b[1;32mIn[11], line 12\u001b[0m\n\u001b[0;32m      1\u001b[0m couples\u001b[38;5;241m=\u001b[39m{\u001b[38;5;124m\"\u001b[39m\u001b[38;5;124mSuryanarayana\u001b[39m\u001b[38;5;124m\"\u001b[39m: \u001b[38;5;124m\"\u001b[39m\u001b[38;5;124mNaga Lakshmi\u001b[39m\u001b[38;5;124m\"\u001b[39m,\n\u001b[0;32m      2\u001b[0m          \u001b[38;5;124m\"\u001b[39m\u001b[38;5;124mYenadisetti\u001b[39m\u001b[38;5;124m\"\u001b[39m: \u001b[38;5;124m\"\u001b[39m\u001b[38;5;124mLakshmi kumari\u001b[39m\u001b[38;5;124m\"\u001b[39m,\n\u001b[0;32m      3\u001b[0m           \u001b[38;5;124m\"\u001b[39m\u001b[38;5;124mNagaDurgaprasad\u001b[39m\u001b[38;5;124m\"\u001b[39m: \u001b[38;5;124m\"\u001b[39m\u001b[38;5;124mJoythi\u001b[39m\u001b[38;5;124m\"\u001b[39m,\n\u001b[1;32m   (...)\u001b[0m\n\u001b[0;32m      9\u001b[0m          \u001b[38;5;124m\"\u001b[39m\u001b[38;5;124mMallikarjuna rao\u001b[39m\u001b[38;5;124m\"\u001b[39m:\u001b[38;5;124m\"\u001b[39m\u001b[38;5;124mSurya kantam\u001b[39m\u001b[38;5;124m\"\u001b[39m,\n\u001b[0;32m     10\u001b[0m          \u001b[38;5;124m\"\u001b[39m\u001b[38;5;124mBala Baskar\u001b[39m\u001b[38;5;124m\"\u001b[39m: \u001b[38;5;124m\"\u001b[39m\u001b[38;5;124mNagaraja\u001b[39m\u001b[38;5;124m\"\u001b[39m}\n\u001b[0;32m     11\u001b[0m x\u001b[38;5;241m=\u001b[39mcouples\u001b[38;5;241m.\u001b[39mitems()\n\u001b[1;32m---> 12\u001b[0m \u001b[38;5;28mprint\u001b[39m(couples\u001b[38;5;241m.\u001b[39mitems(\u001b[38;5;241m0\u001b[39m))\n\u001b[0;32m     13\u001b[0m \u001b[38;5;28mprint\u001b[39m(couples[\u001b[38;5;124m\"\u001b[39m\u001b[38;5;124mYenadisetti\u001b[39m\u001b[38;5;124m\"\u001b[39m])\n\u001b[0;32m     14\u001b[0m \u001b[38;5;28mprint\u001b[39m(couples[\u001b[38;5;124m\"\u001b[39m\u001b[38;5;124mNagaDurgaprasad\u001b[39m\u001b[38;5;124m\"\u001b[39m])\n",
      "\u001b[1;31mTypeError\u001b[0m: dict.items() takes no arguments (1 given)"
     ]
    }
   ],
   "source": [
    "couples={\"Suryanarayana\": \"Naga Lakshmi\",\n",
    "         \"Yenadisetti\": \"Lakshmi kumari\",\n",
    "          \"NagaDurgaprasad\": \"Joythi\",\n",
    "         \"Srinivasrao\": \"Lakshmi kanthamma\",\n",
    "         \"Adiseshu\":\"Geetha\",\n",
    "         \"Ramanjinaylu\": \"Umadevi\", \n",
    "         \"Gupta\": \"Anasuya\",\n",
    "         \" Suresh \": \"Lalitha\",\n",
    "         \"Mallikarjuna rao\":\"Surya kantam\",\n",
    "         \"Bala Baskar\": \"Nagaraja\"}\n",
    "#x=couples.items()\n",
    "print(couples[\"Suryanarayana\"])\n",
    "print(couples[\"Yenadisetti\"])\n",
    "print(couples[\"NagaDurgaprasad\"])\n",
    "print(couples[\"Srinivasrao\"])\n",
    "print(couples[\"Adiseshu\"])\n",
    "print(couples[\"Ramanjinaylu\"])\n",
    "print(couples[\"Gupta\"])\n",
    "print(couples[\" Suresh \"])\n",
    "print(couples[\"Mallikarjuna rao\"])\n",
    "print(couples[\"Bala Baskar\"])"
   ]
  },
  {
   "cell_type": "code",
   "execution_count": null,
   "id": "26bbf19c-d14d-41c7-a381-ed8f0df9d6b9",
   "metadata": {},
   "outputs": [],
   "source": []
  }
 ],
 "metadata": {
  "kernelspec": {
   "display_name": "Python 3 (ipykernel)",
   "language": "python",
   "name": "python3"
  },
  "language_info": {
   "codemirror_mode": {
    "name": "ipython",
    "version": 3
   },
   "file_extension": ".py",
   "mimetype": "text/x-python",
   "name": "python",
   "nbconvert_exporter": "python",
   "pygments_lexer": "ipython3",
   "version": "3.11.7"
  }
 },
 "nbformat": 4,
 "nbformat_minor": 5
}
