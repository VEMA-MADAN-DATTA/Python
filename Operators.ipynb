{
 "cells": [
  {
   "cell_type": "markdown",
   "id": "7cce8059-f279-4c95-86f5-2568ed5e528d",
   "metadata": {},
   "source": [
    "# Operators"
   ]
  },
  {
   "cell_type": "markdown",
   "id": "4fc218cc-d82d-48ca-bca1-f75decec0e24",
   "metadata": {},
   "source": [
    "We have seven types of operators in Python\n",
    "- Assignment operators\n",
    "- Arithmetic operators\n",
    "- Comparison operators\n",
    "- logical operators\n",
    "- Identity operators\n",
    "- Membership operators"
   ]
  },
  {
   "cell_type": "markdown",
   "id": "da5f49ba-4f78-4287-806e-e2d40054701c",
   "metadata": {},
   "source": [
    "## Assignment operators"
   ]
  },
  {
   "cell_type": "markdown",
   "id": "7824eb89-c05c-46c3-8a54-9db26d81256b",
   "metadata": {},
   "source": [
    "- \"=\" Denotes Assignment operator in python it is used to store a value or an element in a variable"
   ]
  },
  {
   "cell_type": "code",
   "execution_count": 8,
   "id": "904e1f38-3581-47bb-8763-b39418c7d6fd",
   "metadata": {},
   "outputs": [
    {
     "name": "stdout",
     "output_type": "stream",
     "text": [
      "10\n"
     ]
    }
   ],
   "source": [
    "#- \"=\"(Assignment):\n",
    "a=10\n",
    "print (a)"
   ]
  },
  {
   "cell_type": "code",
   "execution_count": 9,
   "id": "5db487e5-2941-48a2-b01b-8aa0840b3f52",
   "metadata": {},
   "outputs": [
    {
     "name": "stdout",
     "output_type": "stream",
     "text": [
      "19\n"
     ]
    }
   ],
   "source": [
    "#- \"+=\"(Add & Assign)\n",
    "a+=9  #a=a+9\n",
    "print(a)"
   ]
  },
  {
   "cell_type": "code",
   "execution_count": 10,
   "id": "59caa631-4547-4a89-8821-63d786356edc",
   "metadata": {},
   "outputs": [
    {
     "name": "stdout",
     "output_type": "stream",
     "text": [
      "10\n"
     ]
    }
   ],
   "source": [
    "#- \"-=\"(sub & Assign)\n",
    "a-=9  #a=a-9\n",
    "print(a)"
   ]
  },
  {
   "cell_type": "code",
   "execution_count": 11,
   "id": "f18c07d2-e2da-4e63-a6c7-4930d238139f",
   "metadata": {},
   "outputs": [
    {
     "name": "stdout",
     "output_type": "stream",
     "text": [
      "30\n"
     ]
    }
   ],
   "source": [
    "#- \"*=\"(Mul & Assign)\n",
    "a*=3  #a=a*3\n",
    "print(a)"
   ]
  },
  {
   "cell_type": "code",
   "execution_count": 14,
   "id": "d6631a61-6f87-4183-a65f-3ae9386b074c",
   "metadata": {},
   "outputs": [
    {
     "name": "stdout",
     "output_type": "stream",
     "text": [
      "10.0\n"
     ]
    }
   ],
   "source": [
    "#- \"/=\"(div & Assign)\n",
    "a/=3   #a=a/3\n",
    "print(a)"
   ]
  },
  {
   "cell_type": "code",
   "execution_count": 16,
   "id": "6fc840e9-fa89-4609-a3bf-1aa5c1307e90",
   "metadata": {},
   "outputs": [
    {
     "name": "stdout",
     "output_type": "stream",
     "text": [
      "2.0\n"
     ]
    }
   ],
   "source": [
    "#- \"%=\"(Modula & Assign)\n",
    "a%=3  #a=a%3\n",
    "print(a)"
   ]
  },
  {
   "cell_type": "code",
   "execution_count": 17,
   "id": "ad83a6a5-45a9-4c32-87e1-ee7ddf98a574",
   "metadata": {},
   "outputs": [
    {
     "name": "stdout",
     "output_type": "stream",
     "text": [
      "0.0\n"
     ]
    }
   ],
   "source": [
    "#- \"//=\"(floor division  & Assign)\n",
    "a//=4  #a=a//4\n",
    "print(a)"
   ]
  },
  {
   "cell_type": "code",
   "execution_count": 18,
   "id": "e8169f96-153c-4245-9085-cd6210a23b8f",
   "metadata": {},
   "outputs": [
    {
     "name": "stdout",
     "output_type": "stream",
     "text": [
      "0.0\n"
     ]
    }
   ],
   "source": [
    "#- \"**=\"(Exponential & Assign)\n",
    "a**=2  #a=a**2\n",
    "print(a)"
   ]
  },
  {
   "cell_type": "markdown",
   "id": "a7e9d55c-6d19-4ca9-bf0f-653a84b84893",
   "metadata": {},
   "source": [
    "## Arthmetic Operators"
   ]
  },
  {
   "cell_type": "code",
   "execution_count": 23,
   "id": "1c3b946b-6639-446d-9ef9-321291156b55",
   "metadata": {},
   "outputs": [
    {
     "name": "stdout",
     "output_type": "stream",
     "text": [
      "10\n",
      "8\n",
      "9\n",
      "9.0\n",
      "0\n",
      "9\n",
      "9\n"
     ]
    }
   ],
   "source": [
    "a=9\n",
    "b=1\n",
    "# Addition(+)\n",
    "print(a+b)\n",
    "# Substraction(-)\n",
    "print(a-b)\n",
    "# Multiplication(*)\n",
    "print(a*b)\n",
    "#Division(/)Quoficient\n",
    "print(a/b)\n",
    "# Modula(%)Remainder\n",
    "print(a%b)\n",
    "# Floor Division(//)\n",
    "print(a//b)\n",
    "# Expontial(**)\n",
    "print(a**b)"
   ]
  },
  {
   "cell_type": "markdown",
   "id": "291b3427-819c-437f-9dae-8ee1d2e4abd0",
   "metadata": {},
   "source": [
    "## Comparission operators"
   ]
  },
  {
   "cell_type": "code",
   "execution_count": 26,
   "id": "7def01b7-45cc-4cdf-9fa4-f73f4e11619d",
   "metadata": {},
   "outputs": [
    {
     "data": {
      "text/plain": [
       "True"
      ]
     },
     "execution_count": 26,
     "metadata": {},
     "output_type": "execute_result"
    }
   ],
   "source": [
    "# \"==\"\n",
    "  #True if matches\n",
    "9==9"
   ]
  },
  {
   "cell_type": "code",
   "execution_count": 32,
   "id": "9b09a4ae-5928-431f-a3d6-d2484c8aadd9",
   "metadata": {},
   "outputs": [
    {
     "data": {
      "text/plain": [
       "False"
      ]
     },
     "execution_count": 32,
     "metadata": {},
     "output_type": "execute_result"
    }
   ],
   "source": [
    "# \"!=\"\n",
    "  #True if doesn't match\n",
    "10!=10"
   ]
  },
  {
   "cell_type": "code",
   "execution_count": 28,
   "id": "4c32d3c5-3830-42cc-98a6-609f89bc3a35",
   "metadata": {},
   "outputs": [
    {
     "data": {
      "text/plain": [
       "True"
      ]
     },
     "execution_count": 28,
     "metadata": {},
     "output_type": "execute_result"
    }
   ],
   "source": [
    "# \" >\"\n",
    "   #True if LHS is greater than RHS\n",
    "5>1"
   ]
  },
  {
   "cell_type": "code",
   "execution_count": 29,
   "id": "2a07c46f-6be3-464d-a9dd-7bf70cc0eada",
   "metadata": {},
   "outputs": [
    {
     "data": {
      "text/plain": [
       "True"
      ]
     },
     "execution_count": 29,
     "metadata": {},
     "output_type": "execute_result"
    }
   ],
   "source": [
    "# \" <\"\n",
    "   #True if LHS is less than RHS\n",
    "5<10"
   ]
  },
  {
   "cell_type": "code",
   "execution_count": 30,
   "id": "0a9c441d-3426-471b-a3c2-b5101a318714",
   "metadata": {},
   "outputs": [
    {
     "data": {
      "text/plain": [
       "True"
      ]
     },
     "execution_count": 30,
     "metadata": {},
     "output_type": "execute_result"
    }
   ],
   "source": [
    "# \" >=\"\n",
    "   #True if LHS is greater or equal to RHS\n",
    "10>=5"
   ]
  },
  {
   "cell_type": "code",
   "execution_count": 31,
   "id": "55ec8018-10dc-47ac-b638-c6f5c0b970d0",
   "metadata": {},
   "outputs": [
    {
     "data": {
      "text/plain": [
       "True"
      ]
     },
     "execution_count": 31,
     "metadata": {},
     "output_type": "execute_result"
    }
   ],
   "source": [
    "# \" <=\"\n",
    "  #True if LHS is lesser or equal to RHS\n",
    "5<=9"
   ]
  },
  {
   "cell_type": "markdown",
   "id": "8025b28c-c291-45b1-a7c6-506cf3004145",
   "metadata": {},
   "source": [
    "##  Logical operators"
   ]
  },
  {
   "cell_type": "code",
   "execution_count": 1,
   "id": "0eb9ace4-45c5-4901-b7c8-15d53db73d63",
   "metadata": {},
   "outputs": [
    {
     "name": "stdout",
     "output_type": "stream",
     "text": [
      "True\n",
      "True\n",
      "False\n"
     ]
    }
   ],
   "source": [
    "#We have three operators in logical operators\n",
    "#  AND(and)\n",
    "print(10>3 and 10<15)\n",
    "# OR(or)\n",
    "print (7>3 or 7==9)\n",
    "# NOT(not)\n",
    "print(not(7>3 or 7==9))"
   ]
  },
  {
   "cell_type": "markdown",
   "id": "c03ee2d1-d251-4b67-a4f3-e77196c34835",
   "metadata": {},
   "source": [
    "## Identity operators"
   ]
  },
  {
   "cell_type": "code",
   "execution_count": 2,
   "id": "9ba5932e-36fa-4716-8848-852720b45ee2",
   "metadata": {},
   "outputs": [
    {
     "name": "stdout",
     "output_type": "stream",
     "text": [
      "True\n",
      "True\n"
     ]
    }
   ],
   "source": [
    "# We have two operators here\n",
    "# \"is\"\n",
    "# used to verify whether The letter or element is present in a variable \n",
    "#\"is not\"\n",
    "#used to verify whether the letter or an element is not present in a variable\n",
    "#Ex:\n",
    "x1=10\n",
    "y1=10\n",
    "x2=\"Datta\"\n",
    "y2=\"Madan Datta\"\n",
    "print(x1 is y1)\n",
    "print(x2 is not y2)"
   ]
  },
  {
   "cell_type": "markdown",
   "id": "d524fe18-b352-4ad5-bb4a-c894136255ed",
   "metadata": {},
   "source": [
    "##  Membership operators"
   ]
  },
  {
   "cell_type": "markdown",
   "id": "8b3ba7bd-dc6f-4b9c-a249-5bdf4cb4e9aa",
   "metadata": {},
   "source": [
    "#Here we also have two operators\n",
    "#in\n",
    "# used to verify whether The letter or element is present in a series of Data\n",
    "#not in\n",
    "#used to verify whether the letter or an element is not present in a Series of Data\n",
    "#Ex:\n",
    "my_list = [1, 2, 3, 4, 5]\n",
    "print (3 in my_list)\n",
    "print(10 in my_list)"
   ]
  },
  {
   "cell_type": "markdown",
   "id": "9a8e69de-e68e-4831-8faa-52b321113cd3",
   "metadata": {},
   "source": [
    "## Bitwise operators"
   ]
  },
  {
   "cell_type": "code",
   "execution_count": 8,
   "id": "8c245809-83f0-462a-8fe3-e4dd54adea83",
   "metadata": {},
   "outputs": [
    {
     "name": "stdout",
     "output_type": "stream",
     "text": [
      "True\n",
      "False\n",
      "False\n",
      "20\n",
      "0\n"
     ]
    }
   ],
   "source": [
    "# AND(&)\n",
    "print(5>2&5<9)\n",
    "#OR(|)\n",
    "print(5>2|5<9)\n",
    "#XOR(^)\n",
    "print(5>2^5<9)\n",
    "#NOT()\n",
    "#print(5>2&5<9)\n",
    "#Left Shift(<<)\n",
    "print(5<<2)\n",
    "#Right Shft(>>)\n",
    "print(5>>9)"
   ]
  }
 ],
 "metadata": {
  "kernelspec": {
   "display_name": "Python 3 (ipykernel)",
   "language": "python",
   "name": "python3"
  },
  "language_info": {
   "codemirror_mode": {
    "name": "ipython",
    "version": 3
   },
   "file_extension": ".py",
   "mimetype": "text/x-python",
   "name": "python",
   "nbconvert_exporter": "python",
   "pygments_lexer": "ipython3",
   "version": "3.11.7"
  }
 },
 "nbformat": 4,
 "nbformat_minor": 5
}
