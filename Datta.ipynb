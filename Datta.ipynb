{
 "cells": [
  {
   "cell_type": "code",
   "execution_count": 3,
   "id": "cf094cf1-6b6f-481b-87f5-83598e0ba7b0",
   "metadata": {},
   "outputs": [
    {
     "name": "stdout",
     "output_type": "stream",
     "text": [
      "3.11.7 | packaged by Anaconda, Inc. | (main, Dec 15 2023, 18:05:47) [MSC v.1916 64 bit (AMD64)]\n"
     ]
    }
   ],
   "source": [
    "import sys\n",
    "\n",
    "print(sys.version)"
   ]
  },
  {
   "cell_type": "code",
   "execution_count": 5,
   "id": "9977b621-b012-48ff-a4c5-28f6413b5142",
   "metadata": {},
   "outputs": [
    {
     "name": "stdout",
     "output_type": "stream",
     "text": [
      "['False', 'None', 'True', 'and', 'as', 'assert', 'async', 'await', 'break', 'class', 'continue', 'def', 'del', 'elif', 'else', 'except', 'finally', 'for', 'from', 'global', 'if', 'import', 'in', 'is', 'lambda', 'nonlocal', 'not', 'or', 'pass', 'raise', 'return', 'try', 'while', 'with', 'yield']\n"
     ]
    }
   ],
   "source": [
    "import keyword\n",
    "python_keywords=keyword.kwlist\n",
    "len(python_keywords)\n",
    "print(python_keywords)"
   ]
  },
  {
   "cell_type": "markdown",
   "id": "b2f5e516-3c4b-4a57-86c6-051bb81a9fda",
   "metadata": {},
   "source": [
    "Variable: A variable is a container which is used to store some values or multiple data types "
   ]
  },
  {
   "cell_type": "code",
   "execution_count": null,
   "id": "1cd74457-e9f0-4db0-9c46-09cab1dbb79a",
   "metadata": {},
   "outputs": [],
   "source": []
  },
  {
   "cell_type": "code",
   "execution_count": 7,
   "id": "8a42d518-060f-4d77-8db5-34f38d5daf89",
   "metadata": {},
   "outputs": [
    {
     "name": "stdout",
     "output_type": "stream",
     "text": [
      "10\n",
      "2\n",
      "2\n",
      "2\n",
      "2\n",
      "2\n",
      "5\n",
      "2\n",
      "1\n",
      "2\n"
     ]
    }
   ],
   "source": [
    "#valid variables\n",
    "Software_roles=10\n",
    "_Software_developer=2\n",
    "Pythondeveloper_=2\n",
    "Gamingdeveloper2=2\n",
    "java_developer_ =2\n",
    "SQL2developer =2\n",
    "_Data_Science_roles=5\n",
    "DataScientist=2\n",
    "D_a_t_a_A_n_a_l_y_s_t=1\n",
    "Data_2_Engineer=2\n",
    "\n",
    "print(Software_roles)\n",
    "print(_Software_developer)\n",
    "print(Pythondeveloper_)\n",
    "print(Gamingdeveloper2)\n",
    "print(java_developer_)\n",
    "print(SQL2developer)\n",
    "print(_Data_Science_roles)\n",
    "print(DataScientist)\n",
    "print(D_a_t_a_A_n_a_l_y_s_t)\n",
    "print(Data_2_Engineer)"
   ]
  },
  {
   "cell_type": "code",
   "execution_count": 9,
   "id": "ee651b7e-c0f9-4d07-8faa-281b5ef03ad3",
   "metadata": {},
   "outputs": [
    {
     "ename": "SyntaxError",
     "evalue": "invalid decimal literal (1110829036.py, line 2)",
     "output_type": "error",
     "traceback": [
      "\u001b[1;36m  Cell \u001b[1;32mIn[9], line 2\u001b[1;36m\u001b[0m\n\u001b[1;33m    1Student =\"Datta\"\u001b[0m\n\u001b[1;37m    ^\u001b[0m\n\u001b[1;31mSyntaxError\u001b[0m\u001b[1;31m:\u001b[0m invalid decimal literal\n"
     ]
    }
   ],
   "source": [
    "#Invalid variables\n",
    "1Student =\"Datta\"\n",
    "$fhafb=123\n",
    "~Datta=256\n",
    "!youtub_e=143\n",
    "!20v3u=1000\n",
    "%nst_a=12345\n",
    "*Datta*=6789\n",
    "<Madan>=\"Second Name\"\n",
    "^Initial^=\"Vema\"\n",
    "@D@o@b@ =01-10-2002\n",
    "\n",
    "print(1Student)\n",
    "print($fhafb)\n",
    "print(~Datta)\n",
    "print(!youtub_e)\n",
    "print(!20v3u)\n",
    "print(%nst_a)\n",
    "print(*Datta*)\n",
    "print(<Madan>)\n",
    "print(^Initial^)\n",
    "print(@D@o@b@)\n"
   ]
  },
  {
   "cell_type": "code",
   "execution_count": null,
   "id": "9013e42e-6907-49ad-a376-0e0a7c502819",
   "metadata": {},
   "outputs": [],
   "source": []
  }
 ],
 "metadata": {
  "kernelspec": {
   "display_name": "Python 3 (ipykernel)",
   "language": "python",
   "name": "python3"
  },
  "language_info": {
   "codemirror_mode": {
    "name": "ipython",
    "version": 3
   },
   "file_extension": ".py",
   "mimetype": "text/x-python",
   "name": "python",
   "nbconvert_exporter": "python",
   "pygments_lexer": "ipython3",
   "version": "3.11.7"
  }
 },
 "nbformat": 4,
 "nbformat_minor": 5
}
