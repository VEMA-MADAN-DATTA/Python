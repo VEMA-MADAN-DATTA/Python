{
 "cells": [
  {
   "cell_type": "markdown",
   "id": "f28587c9-ef8b-4a92-b062-be484ea4112e",
   "metadata": {},
   "source": [
    "##  Precedence "
   ]
  },
  {
   "cell_type": "markdown",
   "id": "744f75ac-82a6-4e26-b4be-df886264ca14",
   "metadata": {},
   "source": [
    "Operation precedence describes the order in which operations are to be performed\n",
    "- \"()\" parenthesis\n",
    "- \"**\" Expontial\n",
    "- \"+x,-x,~x\" Unary+,Unary-,bitwise NOT\n",
    "- \"* / // %\" Mul,div,floor div,Mod.\n",
    "- \"+ -\" Add Sub\n",
    "- \"<<  >>\" Left Shift ,Right Shift\n",
    "- \"& | ^\" bitwise AND,OR,XOR\n",
    "- \" == != > >= < <= is isnot in notin\" comparision ,identity and Membership.\n",
    "- \"and or not\" Logical operators."
   ]
  },
  {
   "cell_type": "code",
   "execution_count": 4,
   "id": "9f027b42-b16f-404d-a212-d3452ba3ea6a",
   "metadata": {},
   "outputs": [
    {
     "name": "stdout",
     "output_type": "stream",
     "text": [
      "229\n"
     ]
    }
   ],
   "source": [
    "a=7+78+(6*24)\n",
    "print (a)"
   ]
  },
  {
   "cell_type": "code",
   "execution_count": 5,
   "id": "58fb94a7-4a46-40fe-86c2-51dcb5f8cac2",
   "metadata": {},
   "outputs": [
    {
     "name": "stdout",
     "output_type": "stream",
     "text": [
      "-4029.6666666666665\n"
     ]
    }
   ],
   "source": [
    "b=67-6*3*(9-2)*32-32-23-(23/3)-2\n",
    "print (b)"
   ]
  },
  {
   "cell_type": "code",
   "execution_count": 10,
   "id": "0e722f01-e489-4573-894f-cd3754ccee36",
   "metadata": {},
   "outputs": [
    {
     "name": "stdout",
     "output_type": "stream",
     "text": [
      "-543.304347826087\n"
     ]
    }
   ],
   "source": [
    "c=7+(2-32)-23*23-(32-232)/23\n",
    "print (c)"
   ]
  },
  {
   "cell_type": "code",
   "execution_count": 3,
   "id": "0bfd9195-ad5f-4edb-be96-47320b277c6c",
   "metadata": {},
   "outputs": [
    {
     "name": "stdout",
     "output_type": "stream",
     "text": [
      "-5624.518518518519\n"
     ]
    }
   ],
   "source": [
    "d=78-23+23+23+12+123-232*(34/54*34+4)+34\n",
    "print (d)"
   ]
  }
 ],
 "metadata": {
  "kernelspec": {
   "display_name": "Python 3 (ipykernel)",
   "language": "python",
   "name": "python3"
  },
  "language_info": {
   "codemirror_mode": {
    "name": "ipython",
    "version": 3
   },
   "file_extension": ".py",
   "mimetype": "text/x-python",
   "name": "python",
   "nbconvert_exporter": "python",
   "pygments_lexer": "ipython3",
   "version": "3.11.7"
  }
 },
 "nbformat": 4,
 "nbformat_minor": 5
}
